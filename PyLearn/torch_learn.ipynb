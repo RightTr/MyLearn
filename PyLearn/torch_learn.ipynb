{
 "cells": [
  {
   "cell_type": "code",
   "execution_count": 55,
   "metadata": {},
   "outputs": [],
   "source": [
    "import torch"
   ]
  },
  {
   "cell_type": "code",
   "execution_count": 65,
   "metadata": {},
   "outputs": [
    {
     "data": {
      "text/plain": [
       "torch.Size([7, 7, 2])"
      ]
     },
     "execution_count": 65,
     "metadata": {},
     "output_type": "execute_result"
    }
   ],
   "source": [
    "dx = torch.linspace(-3, 3, 7)\n",
    "dy = torch.linspace(-3 ,3, 7)\n",
    "xy = torch.stack(torch.meshgrid(dx, dy, indexing='xy'), dim = -1)\n",
    "xy.shape"
   ]
  },
  {
   "cell_type": "code",
   "execution_count": 57,
   "metadata": {},
   "outputs": [
    {
     "name": "stdout",
     "output_type": "stream",
     "text": [
      "tensor([[[[0, 1, 2, 3],\n",
      "          [0, 1, 2, 3],\n",
      "          [0, 1, 2, 3],\n",
      "          [0, 1, 2, 3]],\n",
      "\n",
      "         [[0, 0, 0, 0],\n",
      "          [1, 1, 1, 1],\n",
      "          [2, 2, 2, 2],\n",
      "          [3, 3, 3, 3]]]]) torch.Size([1, 2, 4, 4])\n",
      "tensor([[[[0, 0],\n",
      "          [1, 0],\n",
      "          [2, 0],\n",
      "          [3, 0]],\n",
      "\n",
      "         [[0, 1],\n",
      "          [1, 1],\n",
      "          [2, 1],\n",
      "          [3, 1]],\n",
      "\n",
      "         [[0, 2],\n",
      "          [1, 2],\n",
      "          [2, 2],\n",
      "          [3, 2]],\n",
      "\n",
      "         [[0, 3],\n",
      "          [1, 3],\n",
      "          [2, 3],\n",
      "          [3, 3]]]]) torch.Size([1, 4, 4, 2])\n"
     ]
    }
   ],
   "source": [
    "coords = torch.meshgrid(torch.arange(4), torch.arange(4))\n",
    "coords = coords[::-1]\n",
    "coords = torch.stack(coords, dim = 0)\n",
    "coords = coords[None]\n",
    "print(coords, coords.shape)\n",
    "coords = coords.permute(0, 2, 3, 1)\n",
    "print(coords, coords.shape)"
   ]
  },
  {
   "cell_type": "code",
   "execution_count": 75,
   "metadata": {},
   "outputs": [
    {
     "name": "stdout",
     "output_type": "stream",
     "text": [
      "torch.Size([16, 1, 1, 2])\n",
      "torch.Size([7, 7, 2])\n",
      "torch.Size([16, 7, 7, 2])\n"
     ]
    }
   ],
   "source": [
    "batch, h1, w1, _ = coords.shape\n",
    "coords = coords.reshape(batch*h1*w1, 1, 1 ,2)\n",
    "print(coords.shape)\n",
    "xy.view(1, 7, 7, 2)\n",
    "print(xy.shape)\n",
    "coords_ = coords + xy\n",
    "print(coords_.shape)"
   ]
  }
 ],
 "metadata": {
  "kernelspec": {
   "display_name": "droidslam",
   "language": "python",
   "name": "python3"
  },
  "language_info": {
   "codemirror_mode": {
    "name": "ipython",
    "version": 3
   },
   "file_extension": ".py",
   "mimetype": "text/x-python",
   "name": "python",
   "nbconvert_exporter": "python",
   "pygments_lexer": "ipython3",
   "version": "3.8.20"
  }
 },
 "nbformat": 4,
 "nbformat_minor": 2
}
