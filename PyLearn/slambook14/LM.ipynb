{
 "cells": [
  {
   "cell_type": "code",
   "execution_count": 758,
   "metadata": {},
   "outputs": [],
   "source": [
    "import torch\n",
    "import time\n",
    "import torch.autograd.functional as F"
   ]
  },
  {
   "cell_type": "code",
   "execution_count": 759,
   "metadata": {},
   "outputs": [],
   "source": [
    "    n = torch.normal(0, 1, size=(100, 1))"
   ]
  },
  {
   "cell_type": "code",
   "execution_count": 760,
   "metadata": {},
   "outputs": [],
   "source": [
    "def func(x, p):\n",
    "    x = x.unsqueeze(0)\n",
    "    i = torch.ones(x.shape)\n",
    "    x_2 = x**2\n",
    "    X = torch.cat((x_2, x, i), dim = 0).T\n",
    "    y = torch.exp(torch.matmul(X, p)) + n\n",
    "    return X, y\n"
   ]
  },
  {
   "cell_type": "code",
   "execution_count": 761,
   "metadata": {},
   "outputs": [],
   "source": [
    "def error(x, p, p_):\n",
    "    _, y = func(x, p)\n",
    "    _, y_ = func(x, p_)\n",
    "    return y - y_"
   ]
  },
  {
   "cell_type": "code",
   "execution_count": 762,
   "metadata": {},
   "outputs": [],
   "source": [
    "x = torch.arange(100) / 100\n",
    "p = torch.tensor([1, 2, 1]).float().unsqueeze(1)\n",
    "p_ = torch.tensor([1, -2, 5]).float().unsqueeze(1)\n",
    "X, y = func(x, p)"
   ]
  },
  {
   "cell_type": "code",
   "execution_count": 763,
   "metadata": {},
   "outputs": [
    {
     "name": "stdout",
     "output_type": "stream",
     "text": [
      "cost: -6559.72802734375\n",
      "cost: -3902.5634765625\n",
      "cost: -2305.87841796875\n",
      "cost: -1349.213134765625\n",
      "cost: -779.3309936523438\n",
      "cost: -443.4924011230469\n",
      "cost: -248.59352111816406\n",
      "cost: -137.86178588867188\n",
      "cost: -76.6369857788086\n",
      "cost: -43.481998443603516\n",
      "cost: -24.093385696411133\n",
      "cost: -12.863399505615234\n",
      "cost: -6.6605224609375\n",
      "cost: -3.3870837688446045\n",
      "cost: -1.7072129249572754\n",
      "cost: -0.856957197189331\n",
      "cost: -0.4293184280395508\n",
      "cost: -0.21483945846557617\n",
      "cost: -0.10738849639892578\n",
      "cost: -0.05363893508911133\n",
      "cost: -0.02668142318725586\n",
      "cost: -0.013309001922607422\n",
      "cost: -0.006612300872802734\n",
      "cost: -0.0033173561096191406\n",
      "cost: -0.001522064208984375\n",
      "cost: -0.0006873607635498047\n",
      "cost: -0.00030922889709472656\n",
      "cost: -0.00013208389282226562\n",
      "cost: -0.00013113021850585938\n",
      "cost: -0.000110626220703125\n",
      "cost: -6.222724914550781e-05\n",
      "cost: -8.559226989746094e-05\n",
      "31\n",
      "result: tensor([[1.0000],\n",
      "        [2.0000],\n",
      "        [1.0000]])\n",
      "duration: 0.0862877368927002\n"
     ]
    }
   ],
   "source": [
    "iterations = 100\n",
    "lr = 0.5\n",
    "e_sum = 0\n",
    "u = 1\n",
    "c = 0\n",
    "start_time = time.time()\n",
    "for i in range(iterations):\n",
    "    e = error(x, p, p_)\n",
    "    e_sum = torch.sum(e)\n",
    "    J = F.jacobian(lambda p_: error(x, p, p_), p_)\n",
    "    J = J.reshape(100, 3)\n",
    "    H = J.T @ J\n",
    "    H_ = H + u * torch.eye(H.shape[0])\n",
    "    g = -J.T @ e\n",
    "    dp = torch.inverse(H_) @ g\n",
    "    _, z = func(x, p_)\n",
    "    if c < 0.41:\n",
    "        u *= 2\n",
    "    elif c > 0.45:\n",
    "        u /= 3\n",
    "    p_ += dp * lr  \n",
    "    _, z_ = func(x, p_)\n",
    "    print(f'cost: {e_sum}')\n",
    "    c = torch.norm(z - z_) / torch.norm(J @ dp)\n",
    "    if(dp.norm() < 1e-6):\n",
    "        print(i)\n",
    "        break\n",
    "    \n",
    "end_time = time.time()\n",
    "print(f'result: {p_}')\n",
    "print(f'duration: {end_time - start_time}')\n"
   ]
  }
 ],
 "metadata": {
  "kernelspec": {
   "display_name": "droidslam",
   "language": "python",
   "name": "python3"
  },
  "language_info": {
   "codemirror_mode": {
    "name": "ipython",
    "version": 3
   },
   "file_extension": ".py",
   "mimetype": "text/x-python",
   "name": "python",
   "nbconvert_exporter": "python",
   "pygments_lexer": "ipython3",
   "version": "3.8.20"
  }
 },
 "nbformat": 4,
 "nbformat_minor": 2
}
